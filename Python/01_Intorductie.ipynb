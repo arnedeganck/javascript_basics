{
 "cells": [
  {
   "cell_type": "markdown",
   "id": "989a0952",
   "metadata": {},
   "source": [
    "<div>\n",
    "    <font color=\"#C86B02\" markdown=\"1\">\n",
    "        <h1>PROGRAMMEREN MET PYTHON 🐍</h1>\n",
    "    </font>\n",
    "</div>\n",
    "\n",
    "<div>\n",
    "    <font color=\"#D6AD00\" markdown=\"1\">\n",
    "        <h1>INTRODUCTIE</h1>\n",
    "    </font>\n",
    "</div>\n",
    "\n",
    "---\n",
    "\n",
    "## WAAROM PROGRAMMEREN?\n",
    " \n",
    "Welkom in de cursus programmeren! Je kan je al afvragen “waarom is het belangrijk om te kunnen programmeren?”. Kort door de bocht kunnen we al zeggen dat het gewoon hoort bij de opleiding “Industriële ICT” waar jij voor koos. In het leerplan (OO-2017-005) vinden we letterlijk onderstaande leerplandoestellingen terug:\n",
    "> Tebel nog\n",
    "\n",
    "Maar ook als je niets met deze opleiding te maken hebt, kan je jezelf dezelfde vraag stellen. Goede argumenten vinden we dan in verschillende hoeken terug:\n",
    "\n",
    "- **BAANKANSEN**\n",
    "Het zal niet verwonderen dat een groot deel van de voorstanders voor kunnen programmeren uit het bedrijfsleven komen. Er is een grote vraag naar mensen die met een of meerdere programmeertalen uit de voeten kunnen. Het probleem: te weinig studenten die een opleiding volgen op dit gebied. De oplossing: vanaf de basisschool beginnen met programmeren, zodat al jong kinderen ontdekken wat de mogelijkheden zijn en dat je hier ook je werk van kunt maken. Denk bijvoorbeeld aan Proweto hier op PROVIL waar we leerlingen van het lager onderwijs lieten kennismaken met programmeren met behulp van Scratch en Swift Playgrounds.\n",
    "\n",
    "- **LEREN FALEN**\n",
    "Programmeren is niet altijd even eenvoudig. Sterker nog, ook een eenvoudig programma kan best snel al complex worden. De directe feedback (iets werkt, of het werkt niet) levert een belangrijke les op: falen is noodzakelijk. Door veel fouten te maken kom je steeds een stapje verder, en hoewel dit in het begin lastig is zorgt het ervoor dat je als leerling steeds beter wordt in het omgaan met falen. En dat is voor een leerproces best belangrijk.\n",
    "\n",
    " - **KRITISCH DENKEN EN PROBLEEMOPLOSSEND VERMOGEN**\n",
    "Programmeren gaat over meer dan alleen kans maken op een baan: het gaat in essentie over het leren oplossen van ingewikkelde puzzels. Als programmeur ben je vooral bezig met het doorgronden van complexe problemen, en hier met logisch denken een creatieve oplossing voor te vinden. Computational thinking wordt daarbij gezien als de kernvaardigheid die leerlingen zouden moeten leren, waardoor ze beter leren denken. Programmeren wordt hierbij gezien als het beste middel om dit te leren.\n",
    "\n",
    "- **MAKEN**\n",
    "Leren programmeren heeft ook een ‘scheppende kant’: het is een andere manier om digitaal ideeën tot leven te wekken. Verhalen van kinderen of jongeren die een eigen app of game ontwerpen klinken nog steeds als bijzonder, maar dat kan ook gewoon de normale gang van zaken zijn. Het is daarbij een extra middel om creativiteit om te zetten in een tastbaar product. Dit is ook een van de redenen waarom programmeren vaak gekoppeld wordt aan het label ‘maakonderwijs’.\n",
    "\n",
    "- **SNAPPEN HOE DE WERELD WERKT**\n",
    "Door te snappen hoe een algoritme werkt, en misschien zelf een algoritme kunnen schrijven, begrijp je ook beter hoe zoiets als een ‘filterbubbel’ ontstaat. In tijden van nepnieuws en factchecking is het belangrijk om te begrijpen hoe bepaald nieuws tot je komt. In de toekomst zal dit alleen maar meer worden, wanneer kunstmatige intelligentie een steeds grotere rol krijgt. Door te leren programmeren zul je niet direct je eigen (digitale) assistent kunnen ontwikkelen, maar je snapt wel beter hoe dergelijke systemen werken.\n",
    "---\n",
    "## WAAROM PYTHON?\n",
    "Als we kijken naar de programmeertalen dan kunnen we zien dat er heel wat keuze is. Onderstaande figuur geeft een mooie weergave van de procentuele verdeling van het gebruik van de verschillende programmeertalen.\n"
   ]
  },
  {
   "cell_type": "markdown",
   "id": "f36a8496",
   "metadata": {},
   "source": [
    "<div style=\"text-align: center;\">\n",
    "  <iframe width=\"560\" height=\"315\" \n",
    "          src=\"https://www.youtube.com/embed/NClmyC6olC0?si=LtMA8fYygVgx9iCa\" \n",
    "          title=\"YouTube video player\" \n",
    "          frameborder=\"0\" \n",
    "          allow=\"accelerometer; autoplay; clipboard-write; encrypted-media; gyroscope; picture-in-picture; web-share\" \n",
    "          referrerpolicy=\"strict-origin-when-cross-origin\" \n",
    "          allowfullscreen>\n",
    "  </iframe>\n",
    "</div>"
   ]
  },
  {
   "cell_type": "markdown",
   "id": "7fb8dde2",
   "metadata": {},
   "source": [
    "Meteen valt de eerste reden op waarom we, toch zeker om te beginnen, voor Python opteren. Het is gewoon één van de meest gebruikte programmeertalen. De andere talen zullen meestal maar weinig verschillen. Hier en daar zal de manier om een bepaald commando te beschrijven lichtjes anders zijn maar de structurele manier van denken blijft hetzelfde. Voor welke taal gekozen wordt hangt meestal af van de toepassing:\n",
    "\n",
    "<p align=\"center\">\n",
    "  <img src=\"img/Device_Program.png\" alt=\"Overzicht\" width=\"800\">\n",
    "</p>\n",
    "\n",
    "Als we naar Python kijken, zullen we zien dat de taal voorkomt in veel verschillende toepassingen: op games te maken, webapplicaties te creëren, “business problems” oplossen, interne tools ontwikkelen, specifieke toepassingen in de wetenschappelijke wereld, voor academisch research en nog zo veel meer. Met andere woorden: Python kan ingezet worden in zeer diverse toepassingen.\n",
    "\n",
    "Python is een efficiënte taal: je programma zal meer doen met minder lijnen code in vergelijking met andere talen. Verder is Python ook makkelijk te lezen en gemakkelijke te debuggen. Ook is Python een taal die gratis is en over de verschillende besturingssystemen heen gaat. Waar Visual Basic vooral gelinkt wordt aan de Windows omgevingen zal je met Python ook vlot aan de slag kunnen op een Apple computer.\n",
    "\n",
    "Nog een belangrijk aspect is waarschijnlijk de Python-community: een diverse gemeenschap van ervaren en beginnende programmeurs die elkaar met raad en daad kunnen helpen.\n",
    "Zoals met soms zegt: “het is niet wat je weet maar wie je kent”. Door de ervaring van diverse mensen te koppelen op fora en dergelijke zal je sneller en efficiënter een oplossing vinden voor jouw probleem.\n",
    "\n",
    "Misschien nog een leuk weetje. Python heeft zijn naam te danken aan het favoriete televisieprogramma van zijn bedenker, Guido van Rossum, Monty Python's Flying Circus. Om een artikel op de Python-website te citeren:\n",
    "“Van Rossum thought he needed a name that was short, unique, and slightly mysterious, so he decided to call the language Python.”\n",
    "\n",
    "<p align=\"center\">\n",
    "  <img src=\"img/MontyPython.jpg\" alt=\"Monty Python\" width=\"800\">\n",
    "</p>\n",
    "\n",
    "---\n",
    "\n"
   ]
  },
  {
   "cell_type": "markdown",
   "id": "6191f6c3",
   "metadata": {},
   "source": [
    "## BASISSTRUCTUREN VAN HET PROGRAMMEREN\n",
    "Een computerprogramma moet steeds opgebouwd zijn volgens een bepaalde logica, een bepaalde structuur. Hier wordt ook tijdens onze lessen de nodige aandacht aan besteed. Een gestructureerd programma maakt gebruik van vier basisstructuren:\n",
    "\n",
    "| Basisstructuur | Beschrijving |\n",
    "|----------------|-------------|\n",
    "| SEQUENTIE      | Alle lijnen van het programma stap voor stap na elkaar |\n",
    "| SELECTIE       | Voorwaardelijk; met: if, then, else |\n",
    "| ITERATIE       | Herhalingen; met: for, while, loop |\n",
    "| GENEST         | Combinatie van de vorige structuren |\n",
    "\n",
    "Soms is het interessant gebruik te maken van één van de complementaire structuren:\n",
    "- Iteratie met zelftellende lus;\n",
    "- Iteratie met onderbreking;\n",
    "- Meervoudige selectie;\n",
    "\n",
    "Deze complementaire structuren zijn afgeleid uit de basisstructuren. We hebben ze niet écht nodig maar ze maken het leven van een programmeur wel heel wat aangenamer. Zo laat onderstaand schema heel mooi zien hoe die structuren zijn opgebouwd:\n",
    "\n",
    "<p align=\"center\">\n",
    "  <img src=\"img/Controlestructuren.png\" alt=\"Controlestructuren\" width=\"800\">\n",
    "</p>\n",
    "\n",
    "In onze allereerste programma’s gaan we vooral in op de sequentie. Dit wil zeggen dat de opdrachten die voorkomen in het programma in volgorde, de één na de ander, worden uitgevoerd. Er moet geen keuze gemaakt worden (= selectie) en er komt ook geen herhaling in voor (= iteratie). We zullen gebruik maken van consoletoepassingen en GUI’s (grafische user interface) om voeling te krijgen met deze structuren. De sequentie is een zeer eenvoudige structuur maar toch zullen we in de allereerste voorbeelden al een zeer degelijke basis leggen waar heel wat elementen in voor zullen komen. Van daaruit kunnen we onze basis dan uitbreiden met de andere structuren en programmeermogelijkheden."
   ]
  }
 ],
 "metadata": {
  "kernelspec": {
   "display_name": "Python 3",
   "language": "python",
   "name": "python3"
  },
  "language_info": {
   "codemirror_mode": {
    "name": "ipython",
    "version": 3
   },
   "file_extension": ".py",
   "mimetype": "text/x-python",
   "name": "python",
   "nbconvert_exporter": "python",
   "pygments_lexer": "ipython3",
   "version": "3.13.0"
  }
 },
 "nbformat": 4,
 "nbformat_minor": 5
}
