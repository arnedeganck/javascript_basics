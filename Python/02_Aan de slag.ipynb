{
 "cells": [
  {
   "cell_type": "markdown",
   "id": "64ab82bd",
   "metadata": {},
   "source": [
    "<div>\n",
    "    <font color=\"#C86B02\" markdown=\"1\">\n",
    "        <h1>PROGRAMMEREN MET PYTHON 🐍</h1>\n",
    "    </font>\n",
    "</div>\n",
    "\n",
    "<div>\n",
    "    <font color=\"#D6AD00\" markdown=\"1\">\n",
    "        <h1>INSTALLEREN VAN PYTHON IN VS-code</h1>\n",
    "    </font>\n",
    "</div>\n",
    "\n",
    "---\n",
    "\n",
    "## 1️⃣ Visual Studio Code installeren\n",
    "1. Open **Bedrijfsportal** op je computer.  \n",
    "2. Zoek naar **Visual Studio Code** in de lijst met beschikbare programma’s.  \n",
    "3. Klik op **Installeren** of **Toevoegen**.  \n",
    "4. Wacht tot de installatie is voltooid.  \n",
    "5. Open **Visual Studio Code** na de installatie.\n",
    "\n",
    "---\n",
    "\n",
    "## 2️⃣ Jupyter-extensie installeren in VS Code\n",
    "1. Klik links in VS Code op het **Extensions-icoon** (vier blokjes of Ctrl+Shift+X).  \n",
    "2. Zoek naar **Jupyter** (van Microsoft).  \n",
    "3. Klik op **Installeren**.  \n",
    "4. Wacht tot de extensie volledig is geïnstalleerd.\n",
    "\n",
    "<iframe width=\"560\" height=\"315\" src=\"https://www.youtube.com/embed/suAkMeWJ1yE?si=_XGRXhlWLTjHi4lE\" title=\"YouTube video player\" frameborder=\"0\" allow=\"accelerometer; autoplay; clipboard-write; encrypted-media; gyroscope; picture-in-picture; web-share\" referrerpolicy=\"strict-origin-when-cross-origin\" allowfullscreen></iframe>\n",
    "\n",
    "---\n",
    "\n",
    "## 3️⃣ Python-extensie installeren in VS Code\n",
    "1. Blijf in de **Extensions-tab** in VS Code.  \n",
    "2. Zoek naar **Python** (van Microsoft).  \n",
    "3. Klik op **Installeren**.  \n",
    "\n",
    "<iframe width=\"560\" height=\"315\" src=\"https://www.youtube.com/embed/_QtXBXe2aiI?si=GFWsDo6jLuqTwk7j\" title=\"YouTube video player\" frameborder=\"0\" allow=\"accelerometer; autoplay; clipboard-write; encrypted-media; gyroscope; picture-in-picture; web-share\" referrerpolicy=\"strict-origin-when-cross-origin\" allowfullscreen></iframe>\n"
   ]
  }
 ],
 "metadata": {
  "kernelspec": {
   "display_name": "Python 3",
   "language": "python",
   "name": "python3"
  },
  "language_info": {
   "codemirror_mode": {
    "name": "ipython",
    "version": 3
   },
   "file_extension": ".py",
   "mimetype": "text/x-python",
   "name": "python",
   "nbconvert_exporter": "python",
   "pygments_lexer": "ipython3",
   "version": "3.13.0"
  }
 },
 "nbformat": 4,
 "nbformat_minor": 5
}
