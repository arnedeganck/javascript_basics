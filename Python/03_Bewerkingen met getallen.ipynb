{
 "cells": [
  {
   "cell_type": "markdown",
   "id": "c2a82767",
   "metadata": {},
   "source": [
    "<div>\n",
    "    <font color=\"#C86B02\" markdown=\"1\">\n",
    "        <h1>PROGRAMMEREN MET PYTHON 🐍</h1>\n",
    "    </font>\n",
    "</div>\n",
    "\n",
    "<div>\n",
    "    <font color=\"#D6AD00\" markdown=\"1\">\n",
    "        <h1>BEWERKINGEN MET GETALLEN</h1>\n",
    "    </font>\n",
    "</div>\n",
    "\n",
    "---\n",
    "\n",
    "Als Python eenmaal gedownload en geïnstalleerd is, kunnen we de shell openen en daadwerkelijk aan de slag. Onder dit deel zullen we zien hoe Python aan de slag gaat met getallen, hoe het berekeningen kan maken dus. Gelukkig moeten we Python niet meer leren tellen. We moeten echter wel weten welke symbolen Python gebruikt om te tellen. Meestal spreekt dit voor zich als we het vergelijken met de les wiskunde maar er zijn verschillen.\n",
    "\n",
    "In onderstaande tabel krijg je een overzicht van de standaardbewerkingen:\n"
   ]
  },
  {
   "cell_type": "markdown",
   "id": "9185c6ac",
   "metadata": {},
   "source": [
    "\n",
    "# Basisbewerkingen in Python\n",
    "\n",
    "| BEWERKING | SYMBOOL IN PYTHON | VOORBEELD | VOORBEELD IN PYTHON | ANTWOORD IN PYTHON |\n",
    "|-----------|-----------------|-----------|-------------------|------------------|\n",
    "| SOM       | +               | 6 + 7     | 6+7               | 13               |\n",
    "| VERSCHIL  | -               | 23 − 9    | 23-9              | 14               |\n",
    "| PRODUCT   | *               | 7 ∙ 5     | 7*5               | 35               |\n",
    "| DELING    | /               | 12⁄4      | 12/4              | 3.0              |\n",
    "| MACHT     | **              | 2⁵        | 2**5              | 32               |\n"
   ]
  },
  {
   "cell_type": "code",
   "execution_count": 187,
   "id": "05b32a14",
   "metadata": {},
   "outputs": [
    {
     "name": "stdout",
     "output_type": "stream",
     "text": [
      "6 + 7 = 13\n",
      "23 - 9 = 14\n",
      "7 * 5 = 35\n",
      "12 / 4 = 3.0\n",
      "2 ** 5 = 32\n"
     ]
    }
   ],
   "source": [
    "# Test de bewerkingen zelf\n",
    "print(\"6 + 7 =\", 6+7)\n",
    "print(\"23 - 9 =\", 23-9)\n",
    "print(\"7 * 5 =\", 7*5)\n",
    "print(\"12 / 4 =\", 12/4)\n",
    "print(\"2 ** 5 =\", 2**5)\n"
   ]
  },
  {
   "cell_type": "markdown",
   "id": "495dc486",
   "metadata": {},
   "source": [
    "### Oefeningen: Basisbewerkingen in Python\n",
    "\n",
    "Schrijf voor elke opdracht **een codecel** waarin je de berekening uitvoert en het resultaat toont met `print()`.  \n",
    "\n",
    "---"
   ]
  },
  {
   "cell_type": "markdown",
   "id": "4f3ff240",
   "metadata": {},
   "source": [
    "\n",
    "#### 1️⃣ Optellingen\n",
    "Bereken de volgende sommen en laat het resultaat zien:"
   ]
  },
  {
   "cell_type": "code",
   "execution_count": 188,
   "id": "44733330",
   "metadata": {},
   "outputs": [],
   "source": [
    "# Opdracht 1\n",
    "# Bereken 23 + 57 en print het resultaat\n",
    "\n",
    "# Opdracht 2\n",
    "# Bereken 100 + 200 + 50 en print het resultaat"
   ]
  },
  {
   "cell_type": "markdown",
   "id": "903f6c86",
   "metadata": {},
   "source": [
    "#### 2️⃣ Aftrekken\n",
    "Bereken de verschillen:"
   ]
  },
  {
   "cell_type": "code",
   "execution_count": 189,
   "id": "290b4891",
   "metadata": {},
   "outputs": [],
   "source": [
    "# Opdracht 3\n",
    "# Bereken 150 - 37 en print het resultaat\n",
    "\n",
    "# Opdracht 4\n",
    "# Bereken 500 - 123 - 77 en print het resultaat"
   ]
  },
  {
   "cell_type": "markdown",
   "id": "f43ccbe5",
   "metadata": {},
   "source": [
    "#### 3️⃣ Vermenigvuldigen\n",
    "\n",
    "Bereken de producten:"
   ]
  },
  {
   "cell_type": "code",
   "execution_count": 190,
   "id": "f00055f8",
   "metadata": {},
   "outputs": [],
   "source": [
    "# Opdracht 5\n",
    "# Bereken 7 * 8 en print het resultaat\n",
    "\n",
    "# Opdracht 6\n",
    "# Bereken 3 * 5 * 2 en print het resultaat\n"
   ]
  },
  {
   "cell_type": "markdown",
   "id": "489f2a4f",
   "metadata": {},
   "source": [
    "#### 4️⃣ Delen\n",
    "\n",
    "Bereken de delingen:"
   ]
  },
  {
   "cell_type": "code",
   "execution_count": 191,
   "id": "cd666411",
   "metadata": {},
   "outputs": [],
   "source": [
    "# Opdracht 7\n",
    "# Bereken 144 / 12 en print het resultaat\n",
    "\n",
    "# Opdracht 8\n",
    "# Bereken 100 / 4 / 5 en print het resultaat\n"
   ]
  },
  {
   "cell_type": "markdown",
   "id": "fb5f30e8",
   "metadata": {},
   "source": [
    "#### 5️⃣ Machten\n",
    "\n",
    "Bereken machten:"
   ]
  },
  {
   "cell_type": "code",
   "execution_count": 192,
   "id": "9e42d594",
   "metadata": {},
   "outputs": [],
   "source": [
    "# Opdracht 9\n",
    "# Bereken 2 ** 5 en print het resultaat\n",
    "\n",
    "# Opdracht 10\n",
    "# Bereken 3 ** 4 en print het resultaat\n"
   ]
  },
  {
   "cell_type": "markdown",
   "id": "bff6f4c1",
   "metadata": {},
   "source": [
    "#### 6️⃣ Gecombineerde berekeningen\n",
    "\n",
    "Wat zal het antwoord zijn voor “3+5*2”? Is het antwoord “16” of “13”?"
   ]
  },
  {
   "cell_type": "code",
   "execution_count": 193,
   "id": "df3168d5",
   "metadata": {},
   "outputs": [],
   "source": [
    "# Opdracht 11\n",
    "# Bereken 3+5*2 en print het resultaat"
   ]
  },
  {
   "cell_type": "markdown",
   "id": "397ff467",
   "metadata": {},
   "source": [
    "## BEWERKINGEN\n",
    "Bij de laatste opdracht zou je dus twee antwoorden kunnen verwachten. Als je eerst de som uittelt en dan het product dan krijg je (3+5)*2=16. Als je eerst het product uitvoert en dan de som krijg je echter 3+(5*2)=13. Maar wat doet Python nu eigenlijk? Python zal de volgorde van bewerkingen respecteren net zoals in de lessen wiskunde. Het enige juiste antwoord is dan ook 13 want het product heeft voorrang op de som.\n",
    "Onderstaande tabel geeft de volgorde der bewerkingen zoals we ze in de lessen wiskunde ook respecteren:\n",
    "\n",
    "| NIVEAU | Bewerking                           |\n",
    "|--------|------------------------------------|\n",
    "| 1      | Haakjes                             |\n",
    "| 2      | Machtsverheffing of worteltrekking  |\n",
    "| 3      | Vermenigvuldiging of deling         |\n",
    "| 4      | Som of verschil                     |\n",
    "\n",
    "Maar wat nu met bewerkingen die zowel een som als verschil hebben? Bijvoorbeeld de bewerking 13-6+5. Is het antwoord 12 of 2? We zullen zien dat het antwoord 12 is en dat Python de bewerking oplost van links naar rechts. Ook bewerkingen met zowel een product als deling zullen opgelost worden van links naar rechts. Zo zal het antwoord voor 12/4*3 dus 9 zijn en niet 1. Als laatste voorbeeld kunnen we kijken naar meerdere machten in één bewerking, bijvoorbeeld: 2**3**2. Van links naar rechts zou je het antwoord 64 verwachten terwijl Python toch 512 als antwoord geeft. Python zal machten echter oplossen van rechts naar links.\n",
    "\n",
    "In de Python shell zien deze laatste voorbeelden er als volgt uit:"
   ]
  },
  {
   "cell_type": "code",
   "execution_count": 194,
   "id": "2e8326b8",
   "metadata": {},
   "outputs": [
    {
     "name": "stdout",
     "output_type": "stream",
     "text": [
      "13-6+15 =  22\n",
      "12/4*3 =  9.0\n",
      "2**3**2 =  512\n"
     ]
    }
   ],
   "source": [
    "print(\"13-6+15 = \",13-6+15)\n",
    "print(\"12/4*3 = \",12/4*3)\n",
    "print(\"2**3**2 = \",2**3**2)"
   ]
  },
  {
   "cell_type": "markdown",
   "id": "6fb2877c",
   "metadata": {},
   "source": [
    "Als je zou twijfelen over deze volgorde van bewerkingen, raden we aan om steeds gebruik te maken van haakjes. Deze hebben altijd voorrang. In de lessen wiskunde kan het soms ook gemakkelijker zijn om goed gebruik te maken van haakjes.\n",
    "\n",
    "Om de bewerkingen af te ronden, beschrijven nog twee “bijzondere bewerkingen” die nuttig kunnen zijn bij delingen:\n",
    "\n",
    "| BEWERKING             | SYMBOOL IN PYTHON | VOORBEELD IN PYTHON | ANTWOORD IN PYTHON |\n",
    "|----------------------|-----------------|-------------------|------------------|\n",
    "| DELING               | /               | 14/4              | 3.5              |\n",
    "| GEHEELTALLIGE DELING | //              | 14//4             | 3                |\n",
    "| REST                 | %               | 14%4              | 2                |\n",
    "\n",
    "De gewone deling kenden we al van bij de basisbewerkingen. Per definitie wordt de geheeltallige deling beschreven als: “het resultaat van de geheeltallige deling is steeds het gehele getal kleiner dan het resultaat van de gewone deling”. We ronden het getal dus eigenlijk naar beneden af, in het Engels “floor division” genoemd. De geheeltallige deling geeft dus aan hoeveel keren een getal in een ander getal past. De rest geeft aan hoeveel er na de gehele deling overblijft.\n"
   ]
  },
  {
   "cell_type": "markdown",
   "id": "cc72d9e3",
   "metadata": {},
   "source": [
    "### Oefeningen: Basisbewerkingen in Python\n",
    "\n",
    "Schrijf voor elke opdracht **een codecel** waarin je de berekening uitvoert en het resultaat toont met `print()`.  \n"
   ]
  },
  {
   "cell_type": "markdown",
   "id": "8f780a5c",
   "metadata": {},
   "source": [
    "#### 1️⃣ Geheelgetal deling\n",
    "Beredeneer eerst het antwoord en controleer daarna in de Python shell of je het juist had:\n",
    "\n",
    "a) `20 // 3`  \n",
    "b) `12 // 5`  \n",
    "c) `-20 // 3`"
   ]
  },
  {
   "cell_type": "code",
   "execution_count": 195,
   "id": "555a6faa",
   "metadata": {},
   "outputs": [],
   "source": [
    "# vul hier je code aan"
   ]
  },
  {
   "cell_type": "markdown",
   "id": "76b21f94",
   "metadata": {},
   "source": [
    "#### 2️⃣ Tijdsberekening met bijzondere bewerkingen\n",
    "\n",
    "Zet **100.000 seconden** om in uren, minuten en seconden door gebruik te maken van **geheelgetal deling (`//`)** en **restwaarden (`%`)**.  "
   ]
  },
  {
   "cell_type": "code",
   "execution_count": 196,
   "id": "e4f98a3a",
   "metadata": {},
   "outputs": [],
   "source": [
    "# vul hier je code aan"
   ]
  },
  {
   "cell_type": "markdown",
   "id": "dec893c0",
   "metadata": {},
   "source": [
    " ## Python Cheatsheet: Bewerken van getallen"
   ]
  },
  {
   "cell_type": "markdown",
   "id": "00148512",
   "metadata": {},
   "source": [
    " #### Basisbewerkingen\n",
    "| Bewerking         | Symbool | Voorbeeld         | Resultaat |\n",
    "|------------------|--------|-----------------|-----------|\n",
    "| Optellen          | +      | 5 + 3           | 8         |\n",
    "| Aftrekken         | -      | 10 - 4          | 6         |\n",
    "| Vermenigvuldigen   | *      | 7 * 6           | 42        |\n",
    "| Delen             | /      | 12 / 4          | 3.0       |\n",
    "| Geheelgetal deling | //     | 12 // 5         | 2         |\n",
    "| Rest               | %      | 12 % 5          | 2         |\n",
    "| Machtsverheffing   | **     | 2 ** 5          | 32        |\n",
    "\n",
    "---\n"
   ]
  }
 ],
 "metadata": {
  "kernelspec": {
   "display_name": "Python 3",
   "language": "python",
   "name": "python3"
  },
  "language_info": {
   "codemirror_mode": {
    "name": "ipython",
    "version": 3
   },
   "file_extension": ".py",
   "mimetype": "text/x-python",
   "name": "python",
   "nbconvert_exporter": "python",
   "pygments_lexer": "ipython3",
   "version": "3.13.0"
  }
 },
 "nbformat": 4,
 "nbformat_minor": 5
}
